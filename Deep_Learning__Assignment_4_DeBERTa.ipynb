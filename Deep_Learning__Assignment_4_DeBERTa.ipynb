{
  "cells": [
    {
      "cell_type": "code",
      "execution_count": null,
      "metadata": {
        "_cell_guid": "b1076dfc-b9ad-4769-8c92-a6c4dae69d19",
        "_uuid": "8f2839f25d086af736a60e9eeb907d3b93b6e0e5",
        "execution": {
          "iopub.execute_input": "2024-10-12T11:53:05.462419Z",
          "iopub.status.busy": "2024-10-12T11:53:05.461961Z",
          "iopub.status.idle": "2024-10-12T11:53:05.467875Z",
          "shell.execute_reply": "2024-10-12T11:53:05.466733Z",
          "shell.execute_reply.started": "2024-10-12T11:53:05.462372Z"
        },
        "id": "1GuvN6suruVc",
        "trusted": true
      },
      "outputs": [],
      "source": [
        "import pandas as pd\n",
        "from sklearn.model_selection import train_test_split\n",
        "import nltk\n",
        "import matplotlib.pyplot as plt\n",
        "from nltk.corpus import stopwords\n",
        "from sklearn.utils import resample"
      ]
    },
    {
      "cell_type": "code",
      "execution_count": null,
      "metadata": {
        "execution": {
          "iopub.execute_input": "2024-10-12T11:53:05.469988Z",
          "iopub.status.busy": "2024-10-12T11:53:05.469666Z",
          "iopub.status.idle": "2024-10-12T11:53:05.483123Z",
          "shell.execute_reply": "2024-10-12T11:53:05.481933Z",
          "shell.execute_reply.started": "2024-10-12T11:53:05.469941Z"
        },
        "id": "RDBJ7eGmruVc",
        "outputId": "40e23e79-3aa0-489e-e9e4-b316f94bfb5b",
        "trusted": true
      },
      "outputs": [
        {
          "name": "stdout",
          "output_type": "stream",
          "text": [
            "[nltk_data] Downloading package stopwords to /usr/share/nltk_data...\n",
            "[nltk_data]   Package stopwords is already up-to-date!\n"
          ]
        },
        {
          "data": {
            "text/plain": [
              "True"
            ]
          },
          "execution_count": 51,
          "metadata": {},
          "output_type": "execute_result"
        }
      ],
      "source": [
        "nltk.download('stopwords')"
      ]
    },
    {
      "cell_type": "code",
      "execution_count": null,
      "metadata": {
        "execution": {
          "iopub.execute_input": "2024-10-12T11:53:05.484893Z",
          "iopub.status.busy": "2024-10-12T11:53:05.484542Z",
          "iopub.status.idle": "2024-10-12T11:53:06.30925Z",
          "shell.execute_reply": "2024-10-12T11:53:06.308183Z",
          "shell.execute_reply.started": "2024-10-12T11:53:05.484837Z"
        },
        "id": "Xf3FhQ5MruVd",
        "trusted": true
      },
      "outputs": [],
      "source": [
        "df = pd.read_csv('/kaggle/input/ecommerce-text-classification/ecommerceDataset.csv', header=None)\n",
        "df.columns = ['Label', 'Text']"
      ]
    },
    {
      "cell_type": "code",
      "execution_count": null,
      "metadata": {
        "execution": {
          "iopub.execute_input": "2024-10-12T11:53:06.311972Z",
          "iopub.status.busy": "2024-10-12T11:53:06.311596Z",
          "iopub.status.idle": "2024-10-12T11:53:06.333698Z",
          "shell.execute_reply": "2024-10-12T11:53:06.332531Z",
          "shell.execute_reply.started": "2024-10-12T11:53:06.311931Z"
        },
        "id": "8LGKyEpnruVe",
        "outputId": "1ac47dd4-1321-487b-b1c7-b7c69c6e6f96",
        "trusted": true
      },
      "outputs": [
        {
          "name": "stdout",
          "output_type": "stream",
          "text": [
            "<class 'pandas.core.frame.DataFrame'>\n",
            "RangeIndex: 50425 entries, 0 to 50424\n",
            "Data columns (total 2 columns):\n",
            " #   Column  Non-Null Count  Dtype \n",
            "---  ------  --------------  ----- \n",
            " 0   Label   50425 non-null  object\n",
            " 1   Text    50424 non-null  object\n",
            "dtypes: object(2)\n",
            "memory usage: 788.0+ KB\n"
          ]
        }
      ],
      "source": [
        "df.info()"
      ]
    },
    {
      "cell_type": "code",
      "execution_count": null,
      "metadata": {
        "execution": {
          "iopub.execute_input": "2024-10-12T11:53:06.335469Z",
          "iopub.status.busy": "2024-10-12T11:53:06.3351Z",
          "iopub.status.idle": "2024-10-12T11:53:06.36348Z",
          "shell.execute_reply": "2024-10-12T11:53:06.362315Z",
          "shell.execute_reply.started": "2024-10-12T11:53:06.335433Z"
        },
        "id": "2vRFtt4kruVe",
        "outputId": "88cc04c0-65ce-430e-be19-f4566f317388",
        "trusted": true
      },
      "outputs": [
        {
          "data": {
            "text/html": [
              "<div>\n",
              "<style scoped>\n",
              "    .dataframe tbody tr th:only-of-type {\n",
              "        vertical-align: middle;\n",
              "    }\n",
              "\n",
              "    .dataframe tbody tr th {\n",
              "        vertical-align: top;\n",
              "    }\n",
              "\n",
              "    .dataframe thead th {\n",
              "        text-align: right;\n",
              "    }\n",
              "</style>\n",
              "<table border=\"1\" class=\"dataframe\">\n",
              "  <thead>\n",
              "    <tr style=\"text-align: right;\">\n",
              "      <th></th>\n",
              "      <th>Label</th>\n",
              "      <th>Text</th>\n",
              "    </tr>\n",
              "  </thead>\n",
              "  <tbody>\n",
              "    <tr>\n",
              "      <th>0</th>\n",
              "      <td>Household</td>\n",
              "      <td>Paper Plane Design Framed Wall Hanging Motivat...</td>\n",
              "    </tr>\n",
              "    <tr>\n",
              "      <th>1</th>\n",
              "      <td>Household</td>\n",
              "      <td>SAF 'Floral' Framed Painting (Wood, 30 inch x ...</td>\n",
              "    </tr>\n",
              "    <tr>\n",
              "      <th>2</th>\n",
              "      <td>Household</td>\n",
              "      <td>SAF 'UV Textured Modern Art Print Framed' Pain...</td>\n",
              "    </tr>\n",
              "    <tr>\n",
              "      <th>3</th>\n",
              "      <td>Household</td>\n",
              "      <td>SAF Flower Print Framed Painting (Synthetic, 1...</td>\n",
              "    </tr>\n",
              "    <tr>\n",
              "      <th>4</th>\n",
              "      <td>Household</td>\n",
              "      <td>Incredible Gifts India Wooden Happy Birthday U...</td>\n",
              "    </tr>\n",
              "    <tr>\n",
              "      <th>...</th>\n",
              "      <td>...</td>\n",
              "      <td>...</td>\n",
              "    </tr>\n",
              "    <tr>\n",
              "      <th>50420</th>\n",
              "      <td>Electronics</td>\n",
              "      <td>Strontium MicroSD Class 10 8GB Memory Card (Bl...</td>\n",
              "    </tr>\n",
              "    <tr>\n",
              "      <th>50421</th>\n",
              "      <td>Electronics</td>\n",
              "      <td>CrossBeats Wave Waterproof Bluetooth Wireless ...</td>\n",
              "    </tr>\n",
              "    <tr>\n",
              "      <th>50422</th>\n",
              "      <td>Electronics</td>\n",
              "      <td>Karbonn Titanium Wind W4 (White) Karbonn Titan...</td>\n",
              "    </tr>\n",
              "    <tr>\n",
              "      <th>50423</th>\n",
              "      <td>Electronics</td>\n",
              "      <td>Samsung Guru FM Plus (SM-B110E/D, Black) Colou...</td>\n",
              "    </tr>\n",
              "    <tr>\n",
              "      <th>50424</th>\n",
              "      <td>Electronics</td>\n",
              "      <td>Micromax Canvas Win W121 (White)</td>\n",
              "    </tr>\n",
              "  </tbody>\n",
              "</table>\n",
              "<p>50424 rows × 2 columns</p>\n",
              "</div>"
            ],
            "text/plain": [
              "             Label                                               Text\n",
              "0        Household  Paper Plane Design Framed Wall Hanging Motivat...\n",
              "1        Household  SAF 'Floral' Framed Painting (Wood, 30 inch x ...\n",
              "2        Household  SAF 'UV Textured Modern Art Print Framed' Pain...\n",
              "3        Household  SAF Flower Print Framed Painting (Synthetic, 1...\n",
              "4        Household  Incredible Gifts India Wooden Happy Birthday U...\n",
              "...            ...                                                ...\n",
              "50420  Electronics  Strontium MicroSD Class 10 8GB Memory Card (Bl...\n",
              "50421  Electronics  CrossBeats Wave Waterproof Bluetooth Wireless ...\n",
              "50422  Electronics  Karbonn Titanium Wind W4 (White) Karbonn Titan...\n",
              "50423  Electronics  Samsung Guru FM Plus (SM-B110E/D, Black) Colou...\n",
              "50424  Electronics                   Micromax Canvas Win W121 (White)\n",
              "\n",
              "[50424 rows x 2 columns]"
            ]
          },
          "execution_count": 54,
          "metadata": {},
          "output_type": "execute_result"
        }
      ],
      "source": [
        "df.dropna()"
      ]
    },
    {
      "cell_type": "code",
      "execution_count": null,
      "metadata": {
        "execution": {
          "iopub.execute_input": "2024-10-12T11:53:06.365598Z",
          "iopub.status.busy": "2024-10-12T11:53:06.364912Z",
          "iopub.status.idle": "2024-10-12T11:53:06.381107Z",
          "shell.execute_reply": "2024-10-12T11:53:06.380121Z",
          "shell.execute_reply.started": "2024-10-12T11:53:06.365547Z"
        },
        "id": "uwhaUWBoruVe",
        "outputId": "4fef0fba-49cf-4f39-faae-282ceeccc2e5",
        "trusted": true
      },
      "outputs": [
        {
          "data": {
            "text/plain": [
              "Label\n",
              "Household                 19313\n",
              "Books                     11820\n",
              "Electronics               10621\n",
              "Clothing & Accessories     8671\n",
              "Name: count, dtype: int64"
            ]
          },
          "execution_count": 55,
          "metadata": {},
          "output_type": "execute_result"
        }
      ],
      "source": [
        "df['Label'].value_counts()"
      ]
    },
    {
      "cell_type": "markdown",
      "metadata": {
        "id": "G4yjWCnJruVf"
      },
      "source": [
        "# Preprocessing"
      ]
    },
    {
      "cell_type": "code",
      "execution_count": null,
      "metadata": {
        "execution": {
          "iopub.execute_input": "2024-10-12T11:53:06.38295Z",
          "iopub.status.busy": "2024-10-12T11:53:06.382587Z",
          "iopub.status.idle": "2024-10-12T11:53:06.435524Z",
          "shell.execute_reply": "2024-10-12T11:53:06.434529Z",
          "shell.execute_reply.started": "2024-10-12T11:53:06.382911Z"
        },
        "id": "ZT0XHqvwruVg",
        "outputId": "51137190-f86b-4eac-96c9-7eba7277dcc1",
        "trusted": true
      },
      "outputs": [
        {
          "name": "stdout",
          "output_type": "stream",
          "text": [
            "<class 'pandas.core.frame.DataFrame'>\n",
            "Index: 27803 entries, 0 to 50410\n",
            "Data columns (total 2 columns):\n",
            " #   Column  Non-Null Count  Dtype \n",
            "---  ------  --------------  ----- \n",
            " 0   Label   27803 non-null  object\n",
            " 1   Text    27802 non-null  object\n",
            "dtypes: object(2)\n",
            "memory usage: 651.6+ KB\n"
          ]
        }
      ],
      "source": [
        "#drop duplicates\n",
        "df = df.drop_duplicates()\n",
        "df.info()"
      ]
    },
    {
      "cell_type": "code",
      "execution_count": null,
      "metadata": {
        "execution": {
          "iopub.execute_input": "2024-10-12T11:53:06.437289Z",
          "iopub.status.busy": "2024-10-12T11:53:06.436853Z",
          "iopub.status.idle": "2024-10-12T11:53:06.455192Z",
          "shell.execute_reply": "2024-10-12T11:53:06.45417Z",
          "shell.execute_reply.started": "2024-10-12T11:53:06.437241Z"
        },
        "id": "O1vW7goxruVg",
        "outputId": "8084a594-b409-40f3-9999-312622444723",
        "trusted": true
      },
      "outputs": [
        {
          "data": {
            "text/html": [
              "<div>\n",
              "<style scoped>\n",
              "    .dataframe tbody tr th:only-of-type {\n",
              "        vertical-align: middle;\n",
              "    }\n",
              "\n",
              "    .dataframe tbody tr th {\n",
              "        vertical-align: top;\n",
              "    }\n",
              "\n",
              "    .dataframe thead th {\n",
              "        text-align: right;\n",
              "    }\n",
              "</style>\n",
              "<table border=\"1\" class=\"dataframe\">\n",
              "  <thead>\n",
              "    <tr style=\"text-align: right;\">\n",
              "      <th></th>\n",
              "      <th>Label</th>\n",
              "      <th>Text</th>\n",
              "      <th>Label encoded</th>\n",
              "    </tr>\n",
              "  </thead>\n",
              "  <tbody>\n",
              "    <tr>\n",
              "      <th>0</th>\n",
              "      <td>Household</td>\n",
              "      <td>Paper Plane Design Framed Wall Hanging Motivat...</td>\n",
              "      <td>0</td>\n",
              "    </tr>\n",
              "    <tr>\n",
              "      <th>1</th>\n",
              "      <td>Household</td>\n",
              "      <td>SAF 'Floral' Framed Painting (Wood, 30 inch x ...</td>\n",
              "      <td>0</td>\n",
              "    </tr>\n",
              "    <tr>\n",
              "      <th>2</th>\n",
              "      <td>Household</td>\n",
              "      <td>SAF 'UV Textured Modern Art Print Framed' Pain...</td>\n",
              "      <td>0</td>\n",
              "    </tr>\n",
              "    <tr>\n",
              "      <th>3</th>\n",
              "      <td>Household</td>\n",
              "      <td>SAF Flower Print Framed Painting (Synthetic, 1...</td>\n",
              "      <td>0</td>\n",
              "    </tr>\n",
              "    <tr>\n",
              "      <th>4</th>\n",
              "      <td>Household</td>\n",
              "      <td>Incredible Gifts India Wooden Happy Birthday U...</td>\n",
              "      <td>0</td>\n",
              "    </tr>\n",
              "  </tbody>\n",
              "</table>\n",
              "</div>"
            ],
            "text/plain": [
              "       Label                                               Text  Label encoded\n",
              "0  Household  Paper Plane Design Framed Wall Hanging Motivat...              0\n",
              "1  Household  SAF 'Floral' Framed Painting (Wood, 30 inch x ...              0\n",
              "2  Household  SAF 'UV Textured Modern Art Print Framed' Pain...              0\n",
              "3  Household  SAF Flower Print Framed Painting (Synthetic, 1...              0\n",
              "4  Household  Incredible Gifts India Wooden Happy Birthday U...              0"
            ]
          },
          "execution_count": 57,
          "metadata": {},
          "output_type": "execute_result"
        }
      ],
      "source": [
        "#mapping\n",
        "mapping = {\n",
        "    'Household': 0,\n",
        "    'Books': 1,\n",
        "    'Electronics': 2,\n",
        "    'Clothing & Accessories' : 3\n",
        "}\n",
        "\n",
        "df['Label encoded'] = df['Label'].map(mapping)\n",
        "df.head()"
      ]
    },
    {
      "cell_type": "code",
      "execution_count": null,
      "metadata": {
        "execution": {
          "iopub.execute_input": "2024-10-12T11:53:06.460375Z",
          "iopub.status.busy": "2024-10-12T11:53:06.45966Z",
          "iopub.status.idle": "2024-10-12T11:53:06.499029Z",
          "shell.execute_reply": "2024-10-12T11:53:06.498207Z",
          "shell.execute_reply.started": "2024-10-12T11:53:06.460334Z"
        },
        "id": "lCzqqAGwruVh",
        "trusted": true
      },
      "outputs": [],
      "source": [
        "#resample\n",
        "household_entries = df[(df['Label'] == 'Household')]\n",
        "books_entries = df[(df['Label'] == 'Books')]\n",
        "electronic_entries = df[(df['Label'] == 'Electronics')]\n",
        "cloth_acc_entries = df[(df['Label'] == 'Clothing & Accessories')]\n",
        "\n",
        "entries_list = [household_entries, books_entries, electronic_entries, cloth_acc_entries]\n",
        "\n",
        "resampled_entries_list = []\n",
        "num_samples= 5000\n",
        "\n",
        "for item in entries_list:\n",
        "    resampled_entries = resample(item, replace=True, n_samples= num_samples, random_state= 42)\n",
        "    resampled_entries_list.append(resampled_entries)\n",
        "\n",
        "df = pd.concat(resampled_entries_list)"
      ]
    },
    {
      "cell_type": "code",
      "execution_count": null,
      "metadata": {
        "execution": {
          "iopub.execute_input": "2024-10-12T11:53:06.500552Z",
          "iopub.status.busy": "2024-10-12T11:53:06.500221Z",
          "iopub.status.idle": "2024-10-12T11:53:06.506881Z",
          "shell.execute_reply": "2024-10-12T11:53:06.505789Z",
          "shell.execute_reply.started": "2024-10-12T11:53:06.500516Z"
        },
        "id": "QpGKdVvLruVh",
        "trusted": true
      },
      "outputs": [],
      "source": [
        "df['Text'] = df['Text'].astype(str)"
      ]
    },
    {
      "cell_type": "code",
      "execution_count": null,
      "metadata": {
        "execution": {
          "iopub.execute_input": "2024-10-12T11:53:06.508862Z",
          "iopub.status.busy": "2024-10-12T11:53:06.50835Z",
          "iopub.status.idle": "2024-10-12T11:53:06.526171Z",
          "shell.execute_reply": "2024-10-12T11:53:06.525084Z",
          "shell.execute_reply.started": "2024-10-12T11:53:06.508821Z"
        },
        "id": "FVPDDeuBruVh",
        "outputId": "04665410-52a5-4796-a95f-58c40e755c0b",
        "trusted": true
      },
      "outputs": [
        {
          "name": "stdout",
          "output_type": "stream",
          "text": [
            "<class 'pandas.core.frame.DataFrame'>\n",
            "Index: 20000 entries, 12559 to 36711\n",
            "Data columns (total 3 columns):\n",
            " #   Column         Non-Null Count  Dtype \n",
            "---  ------         --------------  ----- \n",
            " 0   Label          20000 non-null  object\n",
            " 1   Text           20000 non-null  object\n",
            " 2   Label encoded  20000 non-null  int64 \n",
            "dtypes: int64(1), object(2)\n",
            "memory usage: 625.0+ KB\n"
          ]
        }
      ],
      "source": [
        "df.info()"
      ]
    },
    {
      "cell_type": "code",
      "execution_count": null,
      "metadata": {
        "execution": {
          "iopub.execute_input": "2024-10-12T11:53:06.527903Z",
          "iopub.status.busy": "2024-10-12T11:53:06.527473Z",
          "iopub.status.idle": "2024-10-12T11:53:06.541349Z",
          "shell.execute_reply": "2024-10-12T11:53:06.54025Z",
          "shell.execute_reply.started": "2024-10-12T11:53:06.527867Z"
        },
        "id": "DY7eohsWruVh",
        "outputId": "27db3be3-450c-4d88-84cc-4c9e405b58f7",
        "trusted": true
      },
      "outputs": [
        {
          "data": {
            "text/plain": [
              "Label\n",
              "Household                 5000\n",
              "Books                     5000\n",
              "Electronics               5000\n",
              "Clothing & Accessories    5000\n",
              "Name: count, dtype: int64"
            ]
          },
          "execution_count": 61,
          "metadata": {},
          "output_type": "execute_result"
        }
      ],
      "source": [
        "df['Label'].value_counts()"
      ]
    },
    {
      "cell_type": "code",
      "execution_count": null,
      "metadata": {
        "execution": {
          "iopub.execute_input": "2024-10-12T11:53:06.542952Z",
          "iopub.status.busy": "2024-10-12T11:53:06.542471Z",
          "iopub.status.idle": "2024-10-12T11:53:06.554574Z",
          "shell.execute_reply": "2024-10-12T11:53:06.553681Z",
          "shell.execute_reply.started": "2024-10-12T11:53:06.542915Z"
        },
        "id": "lZbwz1obruVh",
        "trusted": true
      },
      "outputs": [],
      "source": [
        "#train test split\n",
        "x_train, x_temp, y_train, y_temp = train_test_split(df['Text'], df['Label encoded'], test_size=0.2, random_state=42)\n",
        "x_test, x_val, y_test, y_val = train_test_split(x_temp, y_temp, test_size=0.5, random_state=42)"
      ]
    },
    {
      "cell_type": "markdown",
      "metadata": {
        "id": "m2aAczUoruVi"
      },
      "source": [
        "# Model"
      ]
    },
    {
      "cell_type": "code",
      "execution_count": null,
      "metadata": {
        "execution": {
          "iopub.execute_input": "2024-10-12T11:53:06.556204Z",
          "iopub.status.busy": "2024-10-12T11:53:06.555777Z",
          "iopub.status.idle": "2024-10-12T11:53:13.988798Z",
          "shell.execute_reply": "2024-10-12T11:53:13.987903Z",
          "shell.execute_reply.started": "2024-10-12T11:53:06.556133Z"
        },
        "id": "zL5ozmc2ruVi",
        "outputId": "d6cec9e1-3375-43bc-ec3b-99b2bf5d716e",
        "trusted": true
      },
      "outputs": [
        {
          "name": "stderr",
          "output_type": "stream",
          "text": [
            "/opt/conda/lib/python3.10/site-packages/transformers/tokenization_utils_base.py:1617: FutureWarning: `clean_up_tokenization_spaces` was not set. It will be set to `True` by default. This behavior will be deprecated in transformers v4.45, and will be then set to `False` by default. For more details check this issue: https://github.com/huggingface/transformers/issues/31884\n",
            "  warnings.warn(\n",
            "/opt/conda/lib/python3.10/site-packages/transformers/convert_slow_tokenizer.py:558: UserWarning: The sentencepiece tokenizer that you are converting to a fast tokenizer uses the byte fallback option which is not implemented in the fast tokenizers. In practice this means that the fast version of the tokenizer can produce unknown tokens whereas the sentencepiece version would have converted these unknown tokens into a sequence of byte tokens matching the original piece of text.\n",
            "  warnings.warn(\n"
          ]
        }
      ],
      "source": [
        "from transformers import AutoTokenizer\n",
        "#tokenize\n",
        "tokenizer = AutoTokenizer.from_pretrained('microsoft/deberta-v3-small')\n",
        "\n",
        "max_length = 128\n",
        "train_encoded = tokenizer(list(x_train), truncation=True, padding=True, max_length=max_length)\n",
        "val_encoded = tokenizer(list(x_val), truncation=True, padding=True, max_length=max_length)\n",
        "test_encoded = tokenizer(list(x_test), truncation=True, padding=True, max_length=max_length)"
      ]
    },
    {
      "cell_type": "code",
      "execution_count": null,
      "metadata": {
        "execution": {
          "iopub.execute_input": "2024-10-12T11:53:13.990362Z",
          "iopub.status.busy": "2024-10-12T11:53:13.990012Z",
          "iopub.status.idle": "2024-10-12T11:53:14.03753Z",
          "shell.execute_reply": "2024-10-12T11:53:14.036382Z",
          "shell.execute_reply.started": "2024-10-12T11:53:13.990324Z"
        },
        "id": "ZK0slwdNruVi",
        "trusted": true
      },
      "outputs": [],
      "source": [
        "import torch\n",
        "#initialize dataset\n",
        "\n",
        "class CustomDataset(torch.utils.data.Dataset):\n",
        "    def __init__(self, encodings, labels):\n",
        "        self.encodings = encodings\n",
        "        self.labels = labels\n",
        "\n",
        "    def __getitem__(self, idx):\n",
        "        item = {key: torch.tensor(val[idx]) for key, val in self.encodings.items()}\n",
        "        item['labels'] = torch.tensor(self.labels[idx])\n",
        "        return item\n",
        "\n",
        "    def __len__(self):\n",
        "        return len(self.labels)\n",
        "\n",
        "train_dataset = CustomDataset(train_encoded, y_train.tolist())\n",
        "val_dataset = CustomDataset(val_encoded, y_val.tolist())\n",
        "test_dataset = CustomDataset(test_encoded, y_test.tolist())"
      ]
    },
    {
      "cell_type": "code",
      "execution_count": null,
      "metadata": {
        "execution": {
          "iopub.execute_input": "2024-10-12T11:53:14.03948Z",
          "iopub.status.busy": "2024-10-12T11:53:14.038992Z",
          "iopub.status.idle": "2024-10-12T11:53:14.080322Z",
          "shell.execute_reply": "2024-10-12T11:53:14.079519Z",
          "shell.execute_reply.started": "2024-10-12T11:53:14.039429Z"
        },
        "id": "2gwlXixKruVi",
        "trusted": true
      },
      "outputs": [],
      "source": [
        "from transformers import TrainingArguments\n",
        "\n",
        "training_args = TrainingArguments(\n",
        "    output_dir='./results',\n",
        "    eval_strategy='epoch',\n",
        "    logging_dir='./logs',\n",
        "    report_to='tensorboard',\n",
        "    learning_rate=2e-5,\n",
        "    per_device_train_batch_size=8,\n",
        "    per_device_eval_batch_size=8,\n",
        "    num_train_epochs=3,\n",
        "    weight_decay=0.01,\n",
        "    logging_steps=1000,\n",
        ")"
      ]
    },
    {
      "cell_type": "code",
      "execution_count": null,
      "metadata": {
        "execution": {
          "iopub.execute_input": "2024-10-12T11:53:14.08173Z",
          "iopub.status.busy": "2024-10-12T11:53:14.08142Z",
          "iopub.status.idle": "2024-10-12T11:53:14.087845Z",
          "shell.execute_reply": "2024-10-12T11:53:14.086719Z",
          "shell.execute_reply.started": "2024-10-12T11:53:14.081697Z"
        },
        "id": "hFB7ZMhBruVi",
        "trusted": true
      },
      "outputs": [],
      "source": [
        "from sklearn.metrics import accuracy_score\n",
        "import numpy as np\n",
        "\n",
        "def compute_metrics(eval_pred):\n",
        "    logits, labels = eval_pred\n",
        "    predictions = np.argmax(logits, axis=-1)\n",
        "    acc = accuracy_score(labels, predictions)\n",
        "    return {\n",
        "        'accuracy': acc,\n",
        "    }"
      ]
    },
    {
      "cell_type": "code",
      "execution_count": null,
      "metadata": {
        "execution": {
          "iopub.execute_input": "2024-10-12T11:53:14.089445Z",
          "iopub.status.busy": "2024-10-12T11:53:14.089064Z",
          "iopub.status.idle": "2024-10-12T11:53:14.795882Z",
          "shell.execute_reply": "2024-10-12T11:53:14.79476Z",
          "shell.execute_reply.started": "2024-10-12T11:53:14.089409Z"
        },
        "id": "fM3z9ck3ruVi",
        "outputId": "c5622cf0-f3de-4922-c7fa-809c3e48cdbf",
        "trusted": true
      },
      "outputs": [
        {
          "name": "stderr",
          "output_type": "stream",
          "text": [
            "Some weights of DebertaV2ForSequenceClassification were not initialized from the model checkpoint at microsoft/deberta-v3-small and are newly initialized: ['classifier.bias', 'classifier.weight', 'pooler.dense.bias', 'pooler.dense.weight']\n",
            "You should probably TRAIN this model on a down-stream task to be able to use it for predictions and inference.\n"
          ]
        }
      ],
      "source": [
        "from transformers import Trainer, AutoModelForSequenceClassification\n",
        "\n",
        "model = AutoModelForSequenceClassification.from_pretrained('microsoft/deberta-v3-small', num_labels=4)\n",
        "\n",
        "trainer = Trainer(\n",
        "    model=model,\n",
        "    args=training_args,\n",
        "    train_dataset=train_dataset,\n",
        "    eval_dataset=val_dataset,\n",
        "    compute_metrics=compute_metrics\n",
        ")"
      ]
    },
    {
      "cell_type": "code",
      "execution_count": null,
      "metadata": {
        "execution": {
          "iopub.execute_input": "2024-10-12T11:53:14.797961Z",
          "iopub.status.busy": "2024-10-12T11:53:14.797529Z",
          "iopub.status.idle": "2024-10-12T12:07:39.310032Z",
          "shell.execute_reply": "2024-10-12T12:07:39.309191Z",
          "shell.execute_reply.started": "2024-10-12T11:53:14.797922Z"
        },
        "id": "nt2kIMXTruVj",
        "outputId": "e13473b2-82ba-49ef-b77b-8db65a65fe75",
        "trusted": true
      },
      "outputs": [
        {
          "name": "stderr",
          "output_type": "stream",
          "text": [
            "/opt/conda/lib/python3.10/site-packages/torch/nn/parallel/parallel_apply.py:79: FutureWarning: `torch.cuda.amp.autocast(args...)` is deprecated. Please use `torch.amp.autocast('cuda', args...)` instead.\n",
            "  with torch.cuda.device(device), torch.cuda.stream(stream), autocast(enabled=autocast_enabled):\n",
            "/opt/conda/lib/python3.10/site-packages/torch/nn/parallel/_functions.py:68: UserWarning: Was asked to gather along dimension 0, but all input tensors were scalars; will instead unsqueeze and return a vector.\n",
            "  warnings.warn('Was asked to gather along dimension 0, but all '\n"
          ]
        },
        {
          "data": {
            "text/html": [
              "\n",
              "    <div>\n",
              "      \n",
              "      <progress value='3000' max='3000' style='width:300px; height:20px; vertical-align: middle;'></progress>\n",
              "      [3000/3000 14:23, Epoch 3/3]\n",
              "    </div>\n",
              "    <table border=\"1\" class=\"dataframe\">\n",
              "  <thead>\n",
              " <tr style=\"text-align: left;\">\n",
              "      <th>Epoch</th>\n",
              "      <th>Training Loss</th>\n",
              "      <th>Validation Loss</th>\n",
              "      <th>Accuracy</th>\n",
              "    </tr>\n",
              "  </thead>\n",
              "  <tbody>\n",
              "    <tr>\n",
              "      <td>1</td>\n",
              "      <td>0.310500</td>\n",
              "      <td>0.212010</td>\n",
              "      <td>0.952000</td>\n",
              "    </tr>\n",
              "    <tr>\n",
              "      <td>2</td>\n",
              "      <td>0.147000</td>\n",
              "      <td>0.199826</td>\n",
              "      <td>0.956500</td>\n",
              "    </tr>\n",
              "    <tr>\n",
              "      <td>3</td>\n",
              "      <td>0.097200</td>\n",
              "      <td>0.200097</td>\n",
              "      <td>0.963500</td>\n",
              "    </tr>\n",
              "  </tbody>\n",
              "</table><p>"
            ],
            "text/plain": [
              "<IPython.core.display.HTML object>"
            ]
          },
          "metadata": {},
          "output_type": "display_data"
        },
        {
          "name": "stderr",
          "output_type": "stream",
          "text": [
            "/opt/conda/lib/python3.10/site-packages/torch/nn/parallel/parallel_apply.py:79: FutureWarning: `torch.cuda.amp.autocast(args...)` is deprecated. Please use `torch.amp.autocast('cuda', args...)` instead.\n",
            "  with torch.cuda.device(device), torch.cuda.stream(stream), autocast(enabled=autocast_enabled):\n",
            "/opt/conda/lib/python3.10/site-packages/torch/nn/parallel/_functions.py:68: UserWarning: Was asked to gather along dimension 0, but all input tensors were scalars; will instead unsqueeze and return a vector.\n",
            "  warnings.warn('Was asked to gather along dimension 0, but all '\n",
            "/opt/conda/lib/python3.10/site-packages/torch/nn/parallel/parallel_apply.py:79: FutureWarning: `torch.cuda.amp.autocast(args...)` is deprecated. Please use `torch.amp.autocast('cuda', args...)` instead.\n",
            "  with torch.cuda.device(device), torch.cuda.stream(stream), autocast(enabled=autocast_enabled):\n",
            "/opt/conda/lib/python3.10/site-packages/torch/nn/parallel/_functions.py:68: UserWarning: Was asked to gather along dimension 0, but all input tensors were scalars; will instead unsqueeze and return a vector.\n",
            "  warnings.warn('Was asked to gather along dimension 0, but all '\n",
            "/opt/conda/lib/python3.10/site-packages/torch/nn/parallel/parallel_apply.py:79: FutureWarning: `torch.cuda.amp.autocast(args...)` is deprecated. Please use `torch.amp.autocast('cuda', args...)` instead.\n",
            "  with torch.cuda.device(device), torch.cuda.stream(stream), autocast(enabled=autocast_enabled):\n",
            "/opt/conda/lib/python3.10/site-packages/torch/nn/parallel/_functions.py:68: UserWarning: Was asked to gather along dimension 0, but all input tensors were scalars; will instead unsqueeze and return a vector.\n",
            "  warnings.warn('Was asked to gather along dimension 0, but all '\n",
            "/opt/conda/lib/python3.10/site-packages/torch/nn/parallel/parallel_apply.py:79: FutureWarning: `torch.cuda.amp.autocast(args...)` is deprecated. Please use `torch.amp.autocast('cuda', args...)` instead.\n",
            "  with torch.cuda.device(device), torch.cuda.stream(stream), autocast(enabled=autocast_enabled):\n",
            "/opt/conda/lib/python3.10/site-packages/torch/nn/parallel/_functions.py:68: UserWarning: Was asked to gather along dimension 0, but all input tensors were scalars; will instead unsqueeze and return a vector.\n",
            "  warnings.warn('Was asked to gather along dimension 0, but all '\n",
            "/opt/conda/lib/python3.10/site-packages/torch/nn/parallel/parallel_apply.py:79: FutureWarning: `torch.cuda.amp.autocast(args...)` is deprecated. Please use `torch.amp.autocast('cuda', args...)` instead.\n",
            "  with torch.cuda.device(device), torch.cuda.stream(stream), autocast(enabled=autocast_enabled):\n",
            "/opt/conda/lib/python3.10/site-packages/torch/nn/parallel/_functions.py:68: UserWarning: Was asked to gather along dimension 0, but all input tensors were scalars; will instead unsqueeze and return a vector.\n",
            "  warnings.warn('Was asked to gather along dimension 0, but all '\n",
            "/opt/conda/lib/python3.10/site-packages/torch/nn/parallel/parallel_apply.py:79: FutureWarning: `torch.cuda.amp.autocast(args...)` is deprecated. Please use `torch.amp.autocast('cuda', args...)` instead.\n",
            "  with torch.cuda.device(device), torch.cuda.stream(stream), autocast(enabled=autocast_enabled):\n",
            "/opt/conda/lib/python3.10/site-packages/torch/nn/parallel/_functions.py:68: UserWarning: Was asked to gather along dimension 0, but all input tensors were scalars; will instead unsqueeze and return a vector.\n",
            "  warnings.warn('Was asked to gather along dimension 0, but all '\n",
            "/opt/conda/lib/python3.10/site-packages/torch/nn/parallel/parallel_apply.py:79: FutureWarning: `torch.cuda.amp.autocast(args...)` is deprecated. Please use `torch.amp.autocast('cuda', args...)` instead.\n",
            "  with torch.cuda.device(device), torch.cuda.stream(stream), autocast(enabled=autocast_enabled):\n",
            "/opt/conda/lib/python3.10/site-packages/torch/nn/parallel/_functions.py:68: UserWarning: Was asked to gather along dimension 0, but all input tensors were scalars; will instead unsqueeze and return a vector.\n",
            "  warnings.warn('Was asked to gather along dimension 0, but all '\n",
            "/opt/conda/lib/python3.10/site-packages/torch/nn/parallel/parallel_apply.py:79: FutureWarning: `torch.cuda.amp.autocast(args...)` is deprecated. Please use `torch.amp.autocast('cuda', args...)` instead.\n",
            "  with torch.cuda.device(device), torch.cuda.stream(stream), autocast(enabled=autocast_enabled):\n",
            "/opt/conda/lib/python3.10/site-packages/torch/nn/parallel/_functions.py:68: UserWarning: Was asked to gather along dimension 0, but all input tensors were scalars; will instead unsqueeze and return a vector.\n",
            "  warnings.warn('Was asked to gather along dimension 0, but all '\n"
          ]
        }
      ],
      "source": [
        "train_results = trainer.train()"
      ]
    },
    {
      "cell_type": "code",
      "execution_count": null,
      "metadata": {
        "execution": {
          "iopub.execute_input": "2024-10-12T12:07:39.31237Z",
          "iopub.status.busy": "2024-10-12T12:07:39.311466Z",
          "iopub.status.idle": "2024-10-12T12:07:40.037029Z",
          "shell.execute_reply": "2024-10-12T12:07:40.036063Z",
          "shell.execute_reply.started": "2024-10-12T12:07:39.312318Z"
        },
        "id": "zX-F89LzruVj",
        "outputId": "0a527fff-5c4c-4321-95de-fcdb19c985a9",
        "trusted": true
      },
      "outputs": [
        {
          "data": {
            "image/png": "[encoded data removed]",
            "text/plain": [
              "<Figure size 1200x500 with 2 Axes>"
            ]
          },
          "metadata": {},
          "output_type": "display_data"
        }
      ],
      "source": [
        "logs = trainer.state.log_history\n",
        "\n",
        "train_loss = [log['loss'] for log in logs if 'loss' in log]\n",
        "eval_loss = [log['eval_loss'] for log in logs if 'eval_loss' in log]\n",
        "eval_accuracy = [log['eval_accuracy'] for log in logs if 'eval_accuracy' in log]\n",
        "\n",
        "plt.figure(figsize=(12, 5))\n",
        "\n",
        "#loss\n",
        "plt.subplot(1, 2, 1)\n",
        "plt.plot(train_loss, label='Train Loss')\n",
        "plt.plot(eval_loss, label='Evaluation Loss')\n",
        "plt.title('Loss')\n",
        "plt.xlabel('Epoch')\n",
        "plt.ylabel('Loss')\n",
        "plt.legend()\n",
        "\n",
        "#acc\n",
        "plt.subplot(1, 2, 2)\n",
        "plt.plot(eval_accuracy, label='Evaluation Accuracy')\n",
        "plt.title('Accuracy')\n",
        "plt.xlabel('Epoch')\n",
        "plt.ylabel('Accuracy')\n",
        "plt.legend()\n",
        "\n",
        "plt.tight_layout()\n",
        "plt.show()"
      ]
    },
    {
      "cell_type": "code",
      "execution_count": null,
      "metadata": {
        "execution": {
          "iopub.execute_input": "2024-10-12T12:07:40.038922Z",
          "iopub.status.busy": "2024-10-12T12:07:40.038465Z",
          "iopub.status.idle": "2024-10-12T12:07:50.919025Z",
          "shell.execute_reply": "2024-10-12T12:07:50.917996Z",
          "shell.execute_reply.started": "2024-10-12T12:07:40.038869Z"
        },
        "id": "ptBXMbbsruVj",
        "outputId": "836f86f5-58e1-46a0-8dcd-432102e1b924",
        "trusted": true
      },
      "outputs": [
        {
          "name": "stderr",
          "output_type": "stream",
          "text": [
            "/opt/conda/lib/python3.10/site-packages/torch/nn/parallel/parallel_apply.py:79: FutureWarning: `torch.cuda.amp.autocast(args...)` is deprecated. Please use `torch.amp.autocast('cuda', args...)` instead.\n",
            "  with torch.cuda.device(device), torch.cuda.stream(stream), autocast(enabled=autocast_enabled):\n",
            "/opt/conda/lib/python3.10/site-packages/torch/nn/parallel/_functions.py:68: UserWarning: Was asked to gather along dimension 0, but all input tensors were scalars; will instead unsqueeze and return a vector.\n",
            "  warnings.warn('Was asked to gather along dimension 0, but all '\n"
          ]
        },
        {
          "data": {
            "text/html": [],
            "text/plain": [
              "<IPython.core.display.HTML object>"
            ]
          },
          "metadata": {},
          "output_type": "display_data"
        },
        {
          "name": "stdout",
          "output_type": "stream",
          "text": [
            "                        precision    recall  f1-score   support\n",
            "\n",
            "             Household       0.95      0.95      0.95       506\n",
            "                 Books       0.97      0.95      0.96       533\n",
            "           Electronics       0.96      0.97      0.96       494\n",
            "Clothing & Accessories       0.97      0.99      0.98       467\n",
            "\n",
            "              accuracy                           0.96      2000\n",
            "             macro avg       0.96      0.96      0.96      2000\n",
            "          weighted avg       0.96      0.96      0.96      2000\n",
            "\n"
          ]
        }
      ],
      "source": [
        "from sklearn.metrics import classification_report\n",
        "\n",
        "#predict and report\n",
        "predictions = trainer.predict(val_dataset)\n",
        "preds = predictions.predictions.argmax(-1)\n",
        "print(classification_report(y_val, preds, target_names=['Household', 'Books', 'Electronics', 'Clothing & Accessories']))"
      ]
    }
  ],
  "metadata": {
    "colab": {
      "provenance": []
    },
    "kaggle": {
      "accelerator": "nvidiaTeslaT4",
      "dataSources": [
        {
          "datasetId": 2093102,
          "sourceId": 6647464,
          "sourceType": "datasetVersion"
        }
      ],
      "dockerImageVersionId": 30787,
      "isGpuEnabled": true,
      "isInternetEnabled": true,
      "language": "python",
      "sourceType": "notebook"
    },
    "kernelspec": {
      "display_name": "Python 3",
      "language": "python",
      "name": "python3"
    },
    "language_info": {
      "codemirror_mode": {
        "name": "ipython",
        "version": 3
      },
      "file_extension": ".py",
      "mimetype": "text/x-python",
      "name": "python",
      "nbconvert_exporter": "python",
      "pygments_lexer": "ipython3",
      "version": "3.10.14"
    }
  },
  "nbformat": 4,
  "nbformat_minor": 0
}
